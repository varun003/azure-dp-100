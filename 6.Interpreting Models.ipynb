{
 "cells": [
  {
   "cell_type": "code",
   "execution_count": null,
   "id": "e3297bbb",
   "metadata": {},
   "outputs": [],
   "source": [
    "!pip install --upgrade azureml-sdk[notebooks,explain]\n",
    "!pip install --upgrade azureml-interpret"
   ]
  },
  {
   "cell_type": "code",
   "execution_count": 1,
   "id": "482ec7ff",
   "metadata": {},
   "outputs": [
    {
     "name": "stdout",
     "output_type": "stream",
     "text": [
      "Loading Data...\n",
      "Training a decision tree model\n",
      "Accuracy: 0.9180327868852459\n",
      "AUC: 0.6499999999999999\n",
      "Model trained.\n"
     ]
    }
   ],
   "source": [
    "import pandas as pd\n",
    "import numpy as np\n",
    "import joblib\n",
    "from sklearn.model_selection import train_test_split\n",
    "from sklearn.linear_model import LogisticRegression\n",
    "from sklearn.metrics import roc_auc_score\n",
    "from sklearn.metrics import roc_curve\n",
    "from sklearn import preprocessing\n",
    "from sklearn.preprocessing import LabelEncoder\n",
    "from sklearn.preprocessing import MinMaxScaler\n",
    "\n",
    "# load the diabetes dataset\n",
    "print(\"Loading Data...\")\n",
    "data = pd.read_csv('data2/car-prediction.csv')\n",
    "\n",
    "# applying label encoding\n",
    "pre = preprocessing.LabelEncoder()\n",
    "data = data.apply(pre.fit_transform)\n",
    "\n",
    "#Normalize the numeric columns\n",
    "scaler = MinMaxScaler()\n",
    "num_cols = ['Selling_Price','Present_Price','Kms_Driven','car_age']\n",
    "data[num_cols] = scaler.fit_transform(data[num_cols])\n",
    "\n",
    "features = ['Selling_Price','Present_Price','Kms_Driven','Fuel_Type','Seller_Type','Transmission','car_age']\n",
    "labels = ['not-Sold', 'Sold']\n",
    "x, y = data[features].values, data['Owner'].values\n",
    "\n",
    "# Split data into training set and test set\n",
    "x_train, x_test, y_train, y_test = train_test_split(x, y, test_size=0.20, random_state=0)\n",
    "\n",
    "# Train a decision tree model\n",
    "print('Training a decision tree model')\n",
    "# model = DecisionTreeClassifier().fit(x_train, y_train)\n",
    "model = LogisticRegression().fit(x_train, y_train)\n",
    "\n",
    "\n",
    "# calculate accuracy\n",
    "y_hat = model.predict(x_test)\n",
    "acc = np.average(y_hat == y_test)\n",
    "print('Accuracy:', acc)\n",
    "\n",
    "# calculate AUC\n",
    "y_scores = model.predict_proba(x_test)\n",
    "auc = roc_auc_score(y_test,y_scores[:,1])\n",
    "print('AUC: ' + str(auc))\n",
    "\n",
    "print('Model trained.')"
   ]
  },
  {
   "cell_type": "code",
   "execution_count": 2,
   "id": "13011ba4",
   "metadata": {},
   "outputs": [
    {
     "name": "stdout",
     "output_type": "stream",
     "text": [
      "TabularExplainer ready!\n"
     ]
    },
    {
     "name": "stderr",
     "output_type": "stream",
     "text": [
      "The option feature_dependence has been renamed to feature_perturbation!\n",
      "The option feature_perturbation=\"independent\" is has been renamed to feature_perturbation=\"interventional\"!\n",
      "The feature_perturbation option is now deprecated in favor of using the appropriate masker (maskers.Independent, or maskers.Impute)\n"
     ]
    }
   ],
   "source": [
    "## model explainer\n",
    "\n",
    "from interpret.ext.blackbox import TabularExplainer\n",
    "\n",
    "# \"features\" and \"classes\" fields are optional\n",
    "tab_explainer = TabularExplainer(model,\n",
    "                             x_train, \n",
    "                             features=features, \n",
    "                             classes=labels)\n",
    "print(tab_explainer, \"ready!\")"
   ]
  },
  {
   "cell_type": "code",
   "execution_count": 3,
   "id": "a219fb2c",
   "metadata": {},
   "outputs": [
    {
     "name": "stdout",
     "output_type": "stream",
     "text": [
      "Seller_Type : 0.2896897612024229\n",
      "Present_Price : 0.18264041815778764\n",
      "Selling_Price : 0.15567785851149746\n",
      "Fuel_Type : 0.12156829926425111\n",
      "car_age : 0.07896360087411795\n",
      "Transmission : 0.07547978951953974\n",
      "Kms_Driven : 0.06417052611225581\n"
     ]
    }
   ],
   "source": [
    "# Checking Global Importance of the Features\n",
    "\n",
    "# you can use the training data or the test data here\n",
    "global_tab_explanation = tab_explainer.explain_global(x_train)\n",
    "\n",
    "# Get the top features by importance\n",
    "global_tab_feature_importance = global_tab_explanation.get_feature_importance_dict()\n",
    "for feature, importance in global_tab_feature_importance.items():\n",
    "    print(feature,\":\", importance)"
   ]
  },
  {
   "cell_type": "code",
   "execution_count": 4,
   "id": "73d1e65a",
   "metadata": {},
   "outputs": [
    {
     "name": "stdout",
     "output_type": "stream",
     "text": [
      "Support for not-Sold\n",
      "\tObservation 1\n",
      "\t\t Fuel_Type : 0.2720491850815395\n",
      "\t\t Selling_Price : 0.19320256705624103\n",
      "\t\t Seller_Type : 0.17354686154983903\n",
      "\t\t Present_Price : 0.1360638668794778\n",
      "\t\t car_age : 0.046840363755426905\n",
      "\t\t Transmission : -0.03592691612212551\n",
      "\t\t Kms_Driven : -0.09344326139935875\n",
      "\t\t ----------\n",
      "\t\t Total: 0.69233266680104 Prediction: not-Sold\n",
      "\tObservation 2\n",
      "\t\t Kms_Driven : 0.10415517672950228\n",
      "\t\t Transmission : -0.03592691612212551\n",
      "\t\t Fuel_Type : -0.08126144489448582\n",
      "\t\t car_age : -0.09194589922361625\n",
      "\t\t Selling_Price : -0.2274367791968383\n",
      "\t\t Present_Price : -0.25846028976105156\n",
      "\t\t Seller_Type : -0.49394106748800337\n",
      "\t\t ----------\n",
      "\t\t Total: -1.0848172199566186 Prediction: not-Sold\n",
      "Support for Sold\n",
      "\tObservation 1\n",
      "\t\t Kms_Driven : 0.09344326139935875\n",
      "\t\t Transmission : 0.03592691612212551\n",
      "\t\t car_age : -0.046840363755426905\n",
      "\t\t Present_Price : -0.1360638668794778\n",
      "\t\t Seller_Type : -0.17354686154983903\n",
      "\t\t Selling_Price : -0.19320256705624103\n",
      "\t\t Fuel_Type : -0.2720491850815395\n",
      "\t\t ----------\n",
      "\t\t Total: -0.69233266680104 Prediction: not-Sold\n",
      "\tObservation 2\n",
      "\t\t Seller_Type : 0.49394106748800337\n",
      "\t\t Present_Price : 0.25846028976105156\n",
      "\t\t Selling_Price : 0.2274367791968383\n",
      "\t\t car_age : 0.09194589922361625\n",
      "\t\t Fuel_Type : 0.08126144489448582\n",
      "\t\t Transmission : 0.03592691612212551\n",
      "\t\t Kms_Driven : -0.10415517672950228\n",
      "\t\t ----------\n",
      "\t\t Total: 1.0848172199566182 Prediction: not-Sold\n"
     ]
    }
   ],
   "source": [
    "# Checking the local feature Importance\n",
    "\n",
    "# Get the observations we want to explain (the first two)\n",
    "x_explain = x_test[0:2]\n",
    "\n",
    "# Get predictions\n",
    "predictions = model.predict(x_explain)\n",
    "\n",
    "# Get local explanations\n",
    "local_tab_explanation = tab_explainer.explain_local(x_explain)\n",
    "\n",
    "# Get feature names and importance for each possible label\n",
    "local_tab_features = local_tab_explanation.get_ranked_local_names()\n",
    "local_tab_importance = local_tab_explanation.get_ranked_local_values()\n",
    "\n",
    "for l in range(len(local_tab_features)):\n",
    "    print('Support for', labels[l])\n",
    "    label = local_tab_features[l]\n",
    "    for o in range(len(label)):\n",
    "        print(\"\\tObservation\", o + 1)\n",
    "        feature_list = label[o]\n",
    "        total_support = 0\n",
    "        for f in range(len(feature_list)):\n",
    "            print(\"\\t\\t\", feature_list[f], ':', local_tab_importance[l][o][f])\n",
    "            total_support += local_tab_importance[l][o][f]\n",
    "        print(\"\\t\\t ----------\\n\\t\\t Total:\", total_support, \"Prediction:\", labels[predictions[o]])"
   ]
  },
  {
   "cell_type": "code",
   "execution_count": null,
   "id": "51126917",
   "metadata": {},
   "outputs": [],
   "source": []
  }
 ],
 "metadata": {
  "kernelspec": {
   "display_name": "Python 3.6 - AzureML",
   "language": "python",
   "name": "python3-azureml"
  },
  "language_info": {
   "codemirror_mode": {
    "name": "ipython",
    "version": 3
   },
   "file_extension": ".py",
   "mimetype": "text/x-python",
   "name": "python",
   "nbconvert_exporter": "python",
   "pygments_lexer": "ipython3",
   "version": "3.6.9"
  }
 },
 "nbformat": 4,
 "nbformat_minor": 5
}
