{
 "cells": [
  {
   "cell_type": "code",
   "execution_count": 1,
   "id": "a72ab511",
   "metadata": {
    "collapsed": true
   },
   "outputs": [
    {
     "name": "stdout",
     "output_type": "stream",
     "text": [
      "Requirement already satisfied: azureml-sdk in /anaconda/envs/azureml_py36/lib/python3.6/site-packages (1.37.0)\n",
      "Requirement already satisfied: azureml-train-automl-client~=1.37.0 in /anaconda/envs/azureml_py36/lib/python3.6/site-packages (from azureml-sdk) (1.37.0)\n",
      "Requirement already satisfied: azureml-dataset-runtime[fuse]~=1.37.0 in /anaconda/envs/azureml_py36/lib/python3.6/site-packages (from azureml-sdk) (1.37.0)\n",
      "Requirement already satisfied: azureml-pipeline~=1.37.0 in /anaconda/envs/azureml_py36/lib/python3.6/site-packages (from azureml-sdk) (1.37.0)\n",
      "Requirement already satisfied: azureml-train-core~=1.37.0 in /anaconda/envs/azureml_py36/lib/python3.6/site-packages (from azureml-sdk) (1.37.0)\n",
      "Requirement already satisfied: azureml-core~=1.37.0 in /anaconda/envs/azureml_py36/lib/python3.6/site-packages (from azureml-sdk) (1.37.0.post1)\n",
      "Requirement already satisfied: azureml-automl-core~=1.37.0 in /anaconda/envs/azureml_py36/lib/python3.6/site-packages (from azureml-train-automl-client~=1.37.0->azureml-sdk) (1.37.0)\n",
      "Requirement already satisfied: azureml-telemetry~=1.37.0 in /anaconda/envs/azureml_py36/lib/python3.6/site-packages (from azureml-train-automl-client~=1.37.0->azureml-sdk) (1.37.0)\n",
      "Requirement already satisfied: azureml-dataprep<2.26.0a,>=2.25.0a in /anaconda/envs/azureml_py36/lib/python3.6/site-packages (from azureml-dataset-runtime[fuse]~=1.37.0->azureml-sdk) (2.25.2)\n",
      "Requirement already satisfied: pyarrow<4.0.0,>=0.17.0 in /anaconda/envs/azureml_py36/lib/python3.6/site-packages (from azureml-dataset-runtime[fuse]~=1.37.0->azureml-sdk) (3.0.0)\n",
      "Requirement already satisfied: numpy!=1.19.3; sys_platform == \"linux\" in /anaconda/envs/azureml_py36/lib/python3.6/site-packages (from azureml-dataset-runtime[fuse]~=1.37.0->azureml-sdk) (1.18.5)\n",
      "Requirement already satisfied: fusepy<4.0.0,>=3.0.1; extra == \"fuse\" in /anaconda/envs/azureml_py36/lib/python3.6/site-packages (from azureml-dataset-runtime[fuse]~=1.37.0->azureml-sdk) (3.0.1)\n",
      "Requirement already satisfied: azureml-pipeline-core~=1.37.0 in /anaconda/envs/azureml_py36/lib/python3.6/site-packages (from azureml-pipeline~=1.37.0->azureml-sdk) (1.37.0)\n",
      "Requirement already satisfied: azureml-pipeline-steps~=1.37.0 in /anaconda/envs/azureml_py36/lib/python3.6/site-packages (from azureml-pipeline~=1.37.0->azureml-sdk) (1.37.0)\n",
      "Requirement already satisfied: azureml-train-restclients-hyperdrive~=1.37.0 in /anaconda/envs/azureml_py36/lib/python3.6/site-packages (from azureml-train-core~=1.37.0->azureml-sdk) (1.37.0)\n",
      "Requirement already satisfied: requests[socks]<3.0.0,>=2.19.1 in /anaconda/envs/azureml_py36/lib/python3.6/site-packages (from azureml-core~=1.37.0->azureml-sdk) (2.26.0)\n",
      "Requirement already satisfied: azure-mgmt-resource<20.0.0,>=15.0.0 in /anaconda/envs/azureml_py36/lib/python3.6/site-packages (from azureml-core~=1.37.0->azureml-sdk) (19.0.0)\n",
      "Requirement already satisfied: PyJWT<3.0.0 in /anaconda/envs/azureml_py36/lib/python3.6/site-packages (from azureml-core~=1.37.0->azureml-sdk) (2.3.0)\n",
      "Requirement already satisfied: azure-mgmt-storage<20.0.0,>=16.0.0 in /anaconda/envs/azureml_py36/lib/python3.6/site-packages (from azureml-core~=1.37.0->azureml-sdk) (19.0.0)\n",
      "Requirement already satisfied: SecretStorage<4.0.0 in /anaconda/envs/azureml_py36/lib/python3.6/site-packages (from azureml-core~=1.37.0->azureml-sdk) (3.3.1)\n",
      "Requirement already satisfied: backports.tempfile in /anaconda/envs/azureml_py36/lib/python3.6/site-packages (from azureml-core~=1.37.0->azureml-sdk) (1.0)\n",
      "Requirement already satisfied: pkginfo in /anaconda/envs/azureml_py36/lib/python3.6/site-packages (from azureml-core~=1.37.0->azureml-sdk) (1.8.1)\n",
      "Requirement already satisfied: azure-graphrbac<1.0.0,>=0.40.0 in /anaconda/envs/azureml_py36/lib/python3.6/site-packages (from azureml-core~=1.37.0->azureml-sdk) (0.61.1)\n",
      "Requirement already satisfied: knack~=0.8.2 in /anaconda/envs/azureml_py36/lib/python3.6/site-packages (from azureml-core~=1.37.0->azureml-sdk) (0.8.2)\n",
      "Requirement already satisfied: paramiko<3.0.0,>=2.0.8 in /anaconda/envs/azureml_py36/lib/python3.6/site-packages (from azureml-core~=1.37.0->azureml-sdk) (2.8.0)\n",
      "Requirement already satisfied: azure-common<2.0.0,>=1.1.12 in /anaconda/envs/azureml_py36/lib/python3.6/site-packages (from azureml-core~=1.37.0->azureml-sdk) (1.1.27)\n",
      "Requirement already satisfied: contextlib2<22.0.0 in /anaconda/envs/azureml_py36/lib/python3.6/site-packages (from azureml-core~=1.37.0->azureml-sdk) (21.6.0)\n",
      "Requirement already satisfied: humanfriendly<10.0,>=4.7 in /anaconda/envs/azureml_py36/lib/python3.6/site-packages (from azureml-core~=1.37.0->azureml-sdk) (9.2)\n",
      "Requirement already satisfied: argcomplete~=1.8 in /anaconda/envs/azureml_py36/lib/python3.6/site-packages (from azureml-core~=1.37.0->azureml-sdk) (1.12.3)\n",
      "Requirement already satisfied: pytz in /anaconda/envs/azureml_py36/lib/python3.6/site-packages (from azureml-core~=1.37.0->azureml-sdk) (2021.3)\n",
      "Requirement already satisfied: msrestazure<=0.6.4,>=0.4.33 in /anaconda/envs/azureml_py36/lib/python3.6/site-packages (from azureml-core~=1.37.0->azureml-sdk) (0.6.4)\n",
      "Requirement already satisfied: urllib3<=1.26.7,>=1.23 in /anaconda/envs/azureml_py36/lib/python3.6/site-packages (from azureml-core~=1.37.0->azureml-sdk) (1.25.11)\n",
      "Requirement already satisfied: pathspec<1.0.0 in /anaconda/envs/azureml_py36/lib/python3.6/site-packages (from azureml-core~=1.37.0->azureml-sdk) (0.9.0)\n",
      "Requirement already satisfied: pyopenssl<22.0.0 in /anaconda/envs/azureml_py36/lib/python3.6/site-packages (from azureml-core~=1.37.0->azureml-sdk) (20.0.1)\n",
      "Requirement already satisfied: azure-mgmt-authorization<1.0.0,>=0.40.0 in /anaconda/envs/azureml_py36/lib/python3.6/site-packages (from azureml-core~=1.37.0->azureml-sdk) (0.61.0)\n",
      "Requirement already satisfied: azure-core<1.21 in /anaconda/envs/azureml_py36/lib/python3.6/site-packages (from azureml-core~=1.37.0->azureml-sdk) (1.19.1)\n",
      "Requirement already satisfied: packaging<22.0 in /anaconda/envs/azureml_py36/lib/python3.6/site-packages (from azureml-core~=1.37.0->azureml-sdk) (21.2)\n",
      "Requirement already satisfied: ndg-httpsclient<=0.5.1 in /anaconda/envs/azureml_py36/lib/python3.6/site-packages (from azureml-core~=1.37.0->azureml-sdk) (0.5.1)\n",
      "Requirement already satisfied: msal-extensions<0.4,>=0.3.0 in /anaconda/envs/azureml_py36/lib/python3.6/site-packages (from azureml-core~=1.37.0->azureml-sdk) (0.3.0)\n",
      "Requirement already satisfied: jsonpickle<3.0.0 in /anaconda/envs/azureml_py36/lib/python3.6/site-packages (from azureml-core~=1.37.0->azureml-sdk) (2.0.0)\n",
      "Requirement already satisfied: python-dateutil<3.0.0,>=2.7.3 in /anaconda/envs/azureml_py36/lib/python3.6/site-packages (from azureml-core~=1.37.0->azureml-sdk) (2.8.2)\n",
      "Requirement already satisfied: msrest<1.0.0,>=0.5.1 in /anaconda/envs/azureml_py36/lib/python3.6/site-packages (from azureml-core~=1.37.0->azureml-sdk) (0.6.21)\n",
      "Requirement already satisfied: cryptography!=1.9,!=2.0.*,!=2.1.*,!=2.2.*,<4.0.0 in /anaconda/envs/azureml_py36/lib/python3.6/site-packages (from azureml-core~=1.37.0->azureml-sdk) (3.4.8)\n",
      "Requirement already satisfied: docker<6.0.0 in /anaconda/envs/azureml_py36/lib/python3.6/site-packages (from azureml-core~=1.37.0->azureml-sdk) (5.0.3)\n",
      "Requirement already satisfied: jmespath<1.0.0 in /anaconda/envs/azureml_py36/lib/python3.6/site-packages (from azureml-core~=1.37.0->azureml-sdk) (0.10.0)\n",
      "Requirement already satisfied: azure-mgmt-containerregistry>=2.0.0 in /anaconda/envs/azureml_py36/lib/python3.6/site-packages (from azureml-core~=1.37.0->azureml-sdk) (8.2.0)\n",
      "Requirement already satisfied: adal<=1.2.7,>=1.2.0 in /anaconda/envs/azureml_py36/lib/python3.6/site-packages (from azureml-core~=1.37.0->azureml-sdk) (1.2.7)\n",
      "Requirement already satisfied: azure-mgmt-keyvault<10.0.0,>=0.40.0 in /anaconda/envs/azureml_py36/lib/python3.6/site-packages (from azureml-core~=1.37.0->azureml-sdk) (9.2.0)\n",
      "Requirement already satisfied: msal<2.0.0,>=1.15.0 in /anaconda/envs/azureml_py36/lib/python3.6/site-packages (from azureml-core~=1.37.0->azureml-sdk) (1.16.0)\n",
      "Requirement already satisfied: applicationinsights in /anaconda/envs/azureml_py36/lib/python3.6/site-packages (from azureml-telemetry~=1.37.0->azureml-train-automl-client~=1.37.0->azureml-sdk) (0.11.10)\n",
      "Requirement already satisfied: azure-identity==1.7.0 in /anaconda/envs/azureml_py36/lib/python3.6/site-packages (from azureml-dataprep<2.26.0a,>=2.25.0a->azureml-dataset-runtime[fuse]~=1.37.0->azureml-sdk) (1.7.0)\n",
      "Requirement already satisfied: cloudpickle<2.0.0,>=1.1.0 in /anaconda/envs/azureml_py36/lib/python3.6/site-packages (from azureml-dataprep<2.26.0a,>=2.25.0a->azureml-dataset-runtime[fuse]~=1.37.0->azureml-sdk) (1.6.0)\n",
      "Requirement already satisfied: azureml-dataprep-rslex~=2.1.0dev0 in /anaconda/envs/azureml_py36/lib/python3.6/site-packages (from azureml-dataprep<2.26.0a,>=2.25.0a->azureml-dataset-runtime[fuse]~=1.37.0->azureml-sdk) (2.1.1)\n",
      "Requirement already satisfied: dotnetcore2<3.0.0,>=2.1.14 in /anaconda/envs/azureml_py36/lib/python3.6/site-packages (from azureml-dataprep<2.26.0a,>=2.25.0a->azureml-dataset-runtime[fuse]~=1.37.0->azureml-sdk) (2.1.21)\n",
      "Requirement already satisfied: azureml-dataprep-native<39.0.0,>=38.0.0 in /anaconda/envs/azureml_py36/lib/python3.6/site-packages (from azureml-dataprep<2.26.0a,>=2.25.0a->azureml-dataset-runtime[fuse]~=1.37.0->azureml-sdk) (38.0.0)\n",
      "Requirement already satisfied: idna<4,>=2.5; python_version >= \"3\" in /anaconda/envs/azureml_py36/lib/python3.6/site-packages (from requests[socks]<3.0.0,>=2.19.1->azureml-core~=1.37.0->azureml-sdk) (3.3)\n",
      "Requirement already satisfied: charset-normalizer~=2.0.0; python_version >= \"3\" in /anaconda/envs/azureml_py36/lib/python3.6/site-packages (from requests[socks]<3.0.0,>=2.19.1->azureml-core~=1.37.0->azureml-sdk) (2.0.7)\n",
      "Requirement already satisfied: certifi>=2017.4.17 in /anaconda/envs/azureml_py36/lib/python3.6/site-packages (from requests[socks]<3.0.0,>=2.19.1->azureml-core~=1.37.0->azureml-sdk) (2021.10.8)\n",
      "Requirement already satisfied: PySocks!=1.5.7,>=1.5.6; extra == \"socks\" in /anaconda/envs/azureml_py36/lib/python3.6/site-packages (from requests[socks]<3.0.0,>=2.19.1->azureml-core~=1.37.0->azureml-sdk) (1.7.1)\n",
      "Requirement already satisfied: azure-mgmt-core<2.0.0,>=1.2.0 in /anaconda/envs/azureml_py36/lib/python3.6/site-packages (from azure-mgmt-resource<20.0.0,>=15.0.0->azureml-core~=1.37.0->azureml-sdk) (1.3.0)\n",
      "Requirement already satisfied: jeepney>=0.6 in /anaconda/envs/azureml_py36/lib/python3.6/site-packages (from SecretStorage<4.0.0->azureml-core~=1.37.0->azureml-sdk) (0.7.1)\n",
      "Requirement already satisfied: backports.weakref in /anaconda/envs/azureml_py36/lib/python3.6/site-packages (from backports.tempfile->azureml-core~=1.37.0->azureml-sdk) (1.0.post1)\n",
      "Requirement already satisfied: pygments in /anaconda/envs/azureml_py36/lib/python3.6/site-packages (from knack~=0.8.2->azureml-core~=1.37.0->azureml-sdk) (2.10.0)\n",
      "Requirement already satisfied: pyyaml in /anaconda/envs/azureml_py36/lib/python3.6/site-packages (from knack~=0.8.2->azureml-core~=1.37.0->azureml-sdk) (6.0)\n",
      "Requirement already satisfied: colorama in /anaconda/envs/azureml_py36/lib/python3.6/site-packages (from knack~=0.8.2->azureml-core~=1.37.0->azureml-sdk) (0.4.4)\n",
      "Requirement already satisfied: tabulate in /anaconda/envs/azureml_py36/lib/python3.6/site-packages (from knack~=0.8.2->azureml-core~=1.37.0->azureml-sdk) (0.8.9)\n",
      "Requirement already satisfied: bcrypt>=3.1.3 in /anaconda/envs/azureml_py36/lib/python3.6/site-packages (from paramiko<3.0.0,>=2.0.8->azureml-core~=1.37.0->azureml-sdk) (3.2.0)\n",
      "Requirement already satisfied: pynacl>=1.0.1 in /anaconda/envs/azureml_py36/lib/python3.6/site-packages (from paramiko<3.0.0,>=2.0.8->azureml-core~=1.37.0->azureml-sdk) (1.4.0)\n",
      "Requirement already satisfied: importlib-metadata<5,>=0.23; python_version == \"3.6\" in /anaconda/envs/azureml_py36/lib/python3.6/site-packages (from argcomplete~=1.8->azureml-core~=1.37.0->azureml-sdk) (4.8.1)\n",
      "Requirement already satisfied: six in /anaconda/envs/azureml_py36/lib/python3.6/site-packages (from msrestazure<=0.6.4,>=0.4.33->azureml-core~=1.37.0->azureml-sdk) (1.16.0)\n",
      "Requirement already satisfied: pyparsing<3,>=2.0.2 in /anaconda/envs/azureml_py36/lib/python3.6/site-packages (from packaging<22.0->azureml-core~=1.37.0->azureml-sdk) (2.4.7)\n",
      "Requirement already satisfied: pyasn1>=0.1.1 in /anaconda/envs/azureml_py36/lib/python3.6/site-packages (from ndg-httpsclient<=0.5.1->azureml-core~=1.37.0->azureml-sdk) (0.4.8)\n",
      "Requirement already satisfied: portalocker~=1.0; platform_system != \"Windows\" in /anaconda/envs/azureml_py36/lib/python3.6/site-packages (from msal-extensions<0.4,>=0.3.0->azureml-core~=1.37.0->azureml-sdk) (1.7.1)\n",
      "Requirement already satisfied: isodate>=0.6.0 in /anaconda/envs/azureml_py36/lib/python3.6/site-packages (from msrest<1.0.0,>=0.5.1->azureml-core~=1.37.0->azureml-sdk) (0.6.0)\n",
      "Requirement already satisfied: requests-oauthlib>=0.5.0 in /anaconda/envs/azureml_py36/lib/python3.6/site-packages (from msrest<1.0.0,>=0.5.1->azureml-core~=1.37.0->azureml-sdk) (1.3.0)\n",
      "Requirement already satisfied: cffi>=1.12 in /anaconda/envs/azureml_py36/lib/python3.6/site-packages (from cryptography!=1.9,!=2.0.*,!=2.1.*,!=2.2.*,<4.0.0->azureml-core~=1.37.0->azureml-sdk) (1.15.0)\n",
      "Requirement already satisfied: websocket-client>=0.32.0 in /anaconda/envs/azureml_py36/lib/python3.6/site-packages (from docker<6.0.0->azureml-core~=1.37.0->azureml-sdk) (1.2.1)\n",
      "Requirement already satisfied: distro>=1.2.0 in /anaconda/envs/azureml_py36/lib/python3.6/site-packages (from dotnetcore2<3.0.0,>=2.1.14->azureml-dataprep<2.26.0a,>=2.25.0a->azureml-dataset-runtime[fuse]~=1.37.0->azureml-sdk) (1.6.0)\n",
      "Requirement already satisfied: typing-extensions>=3.6.4; python_version < \"3.8\" in /anaconda/envs/azureml_py36/lib/python3.6/site-packages (from importlib-metadata<5,>=0.23; python_version == \"3.6\"->argcomplete~=1.8->azureml-core~=1.37.0->azureml-sdk) (3.10.0.2)\n",
      "Requirement already satisfied: zipp>=0.5 in /anaconda/envs/azureml_py36/lib/python3.6/site-packages (from importlib-metadata<5,>=0.23; python_version == \"3.6\"->argcomplete~=1.8->azureml-core~=1.37.0->azureml-sdk) (3.6.0)\n",
      "Requirement already satisfied: oauthlib>=3.0.0 in /anaconda/envs/azureml_py36/lib/python3.6/site-packages (from requests-oauthlib>=0.5.0->msrest<1.0.0,>=0.5.1->azureml-core~=1.37.0->azureml-sdk) (3.1.1)\n",
      "Requirement already satisfied: pycparser in /anaconda/envs/azureml_py36/lib/python3.6/site-packages (from cffi>=1.12->cryptography!=1.9,!=2.0.*,!=2.1.*,!=2.2.*,<4.0.0->azureml-core~=1.37.0->azureml-sdk) (2.20)\n",
      "Note: you may need to restart the kernel to use updated packages.\n"
     ]
    }
   ],
   "source": [
    "pip install azureml-sdk"
   ]
  },
  {
   "cell_type": "code",
   "execution_count": 2,
   "id": "e3622f51",
   "metadata": {},
   "outputs": [
    {
     "name": "stdout",
     "output_type": "stream",
     "text": [
      "ready to use azure ML 1.37.0\n"
     ]
    }
   ],
   "source": [
    "# checking the SDK version\n",
    "\n",
    "import azureml.core\n",
    "\n",
    "print(\"ready to use azure ML\",azureml.core.VERSION)"
   ]
  },
  {
   "cell_type": "code",
   "execution_count": 3,
   "id": "2cf045b3",
   "metadata": {},
   "outputs": [
    {
     "name": "stdout",
     "output_type": "stream",
     "text": [
      "dp100-workspace loaded\n"
     ]
    }
   ],
   "source": [
    "## Connecting to Workspace\n",
    "\n",
    "from azureml.core import Workspace\n",
    "\n",
    "ws=Workspace.from_config()\n",
    "print(ws.name,\"loaded\")"
   ]
  },
  {
   "cell_type": "code",
   "execution_count": 4,
   "id": "b0143e7c",
   "metadata": {},
   "outputs": [
    {
     "name": "stdout",
     "output_type": "stream",
     "text": [
      "Compute Targets:\n",
      "\t dp100-computee : ComputeInstance\n",
      "Datastores:\n",
      "\t azureml_globaldatasets : AzureBlob\n",
      "\t workspacefilestore : AzureFile\n",
      "\t workspaceworkingdirectory : AzureFile\n",
      "\t workspaceartifactstore : AzureBlob\n",
      "\t workspaceblobstore : AzureBlob\n",
      "Datasets:\n",
      "\t car_prediction\n",
      "\t diabetes dataset\n",
      "\t TD-Train_Diabetes-Normalize_Data-Transformation_function-dc175c71\n",
      "\t MD-Train_Diabetes-Train_Model-Trained_model-ca0e7bae\n",
      "\t diabetes-data\n"
     ]
    }
   ],
   "source": [
    "## Checking the Azure ML Resources\n",
    "\n",
    "from azureml.core import ComputeTarget, Datastore, Dataset\n",
    "\n",
    "print(\"Compute Targets:\")\n",
    "for compute_name in ws.compute_targets:\n",
    "    compute = ws.compute_targets[compute_name]\n",
    "    print(\"\\t\", compute.name, ':', compute.type)\n",
    "    \n",
    "print(\"Datastores:\")\n",
    "for datastore_name in ws.datastores:\n",
    "    datastore = Datastore.get(ws, datastore_name)\n",
    "    print(\"\\t\", datastore.name, ':', datastore.datastore_type)\n",
    "    \n",
    "print(\"Datasets:\")\n",
    "for dataset_name in list(ws.datasets.keys()):\n",
    "    dataset = Dataset.get_by_name(ws, dataset_name)\n",
    "    print(\"\\t\", dataset.name)"
   ]
  },
  {
   "cell_type": "code",
   "execution_count": null,
   "id": "6af14fbd",
   "metadata": {},
   "outputs": [],
   "source": []
  },
  {
   "cell_type": "code",
   "execution_count": null,
   "id": "2486eea4",
   "metadata": {},
   "outputs": [],
   "source": []
  },
  {
   "cell_type": "code",
   "execution_count": null,
   "id": "d1116237",
   "metadata": {},
   "outputs": [],
   "source": []
  },
  {
   "cell_type": "code",
   "execution_count": null,
   "id": "7cb4a266",
   "metadata": {},
   "outputs": [],
   "source": []
  },
  {
   "cell_type": "code",
   "execution_count": null,
   "id": "f2007fc3",
   "metadata": {},
   "outputs": [],
   "source": []
  },
  {
   "cell_type": "code",
   "execution_count": null,
   "id": "9df18b35",
   "metadata": {},
   "outputs": [],
   "source": []
  }
 ],
 "metadata": {
  "kernelspec": {
   "display_name": "Python 3.6 - AzureML",
   "language": "python",
   "name": "python3-azureml"
  },
  "language_info": {
   "codemirror_mode": {
    "name": "ipython",
    "version": 3
   },
   "file_extension": ".py",
   "mimetype": "text/x-python",
   "name": "python",
   "nbconvert_exporter": "python",
   "pygments_lexer": "ipython3",
   "version": "3.6.9"
  }
 },
 "nbformat": 4,
 "nbformat_minor": 5
}
